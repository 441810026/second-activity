{
 "cells": [
  {
   "cell_type": "code",
   "execution_count": 184,
   "id": "e3617787-5d07-42b7-8ca2-9c3e4794da10",
   "metadata": {},
   "outputs": [],
   "source": [
    "class Car:\n",
    "    pass\n",
    "def __init__(self, color, mileage):\n",
    "    self.color = color\n",
    "    self.mileage = mileage"
   ]
  },
  {
   "cell_type": "code",
   "execution_count": 194,
   "id": "0358362c-c403-4a24-bac6-08baf9298ed0",
   "metadata": {},
   "outputs": [],
   "source": [
    "blue = Car(\"blue\",20000)\n",
    "red = Car(\"red\",30000)"
   ]
  },
  {
   "cell_type": "code",
   "execution_count": 195,
   "id": "325d4270-f1b6-4d6e-b0a5-2744814666ec",
   "metadata": {},
   "outputs": [
    {
     "data": {
      "text/plain": [
       "'blue'"
      ]
     },
     "execution_count": 195,
     "metadata": {},
     "output_type": "execute_result"
    }
   ],
   "source": [
    "blue.color"
   ]
  },
  {
   "cell_type": "code",
   "execution_count": 196,
   "id": "7b45462a-fc0c-4de5-a4db-b319cd76bfae",
   "metadata": {},
   "outputs": [
    {
     "data": {
      "text/plain": [
       "'red'"
      ]
     },
     "execution_count": 196,
     "metadata": {},
     "output_type": "execute_result"
    }
   ],
   "source": [
    "red.color"
   ]
  },
  {
   "cell_type": "code",
   "execution_count": 197,
   "id": "ee2ad750-3f14-494d-8691-a0e6fcd42eec",
   "metadata": {},
   "outputs": [
    {
     "data": {
      "text/plain": [
       "20000"
      ]
     },
     "execution_count": 197,
     "metadata": {},
     "output_type": "execute_result"
    }
   ],
   "source": [
    "blue.mileage"
   ]
  },
  {
   "cell_type": "code",
   "execution_count": 198,
   "id": "531c270b-a225-42fa-926a-57fed3cdbd52",
   "metadata": {},
   "outputs": [
    {
     "data": {
      "text/plain": [
       "30000"
      ]
     },
     "execution_count": 198,
     "metadata": {},
     "output_type": "execute_result"
    }
   ],
   "source": [
    "red.mileage"
   ]
  },
  {
   "cell_type": "code",
   "execution_count": 199,
   "id": "69005143-a832-423a-840a-4e358c23f559",
   "metadata": {},
   "outputs": [],
   "source": [
    " class Car:\n",
    "    def __init__(self, color, mileage):\n",
    "        \n",
    "        self.color = color\n",
    "        self.mileage = mileage\n",
    "        \n",
    "    \n",
    "    # Instance attribute\n",
    "    def __str__(self):\n",
    "        return f\"{self.color} has {self.mileage} miles\""
   ]
  },
  {
   "cell_type": "code",
   "execution_count": 200,
   "id": "4511628a-48df-44ea-8546-c1ca0cc1a062",
   "metadata": {},
   "outputs": [
    {
     "name": "stdout",
     "output_type": "stream",
     "text": [
      "The blue car has 20000 miles\n"
     ]
    }
   ],
   "source": [
    "blue = Car(\"The blue car\", 20000)\n",
    "print(blue)"
   ]
  },
  {
   "cell_type": "code",
   "execution_count": 201,
   "id": "ed9fbf49-7d9b-4c22-aa42-6b997165e0c9",
   "metadata": {},
   "outputs": [
    {
     "name": "stdout",
     "output_type": "stream",
     "text": [
      "The red car has 30000 miles\n"
     ]
    }
   ],
   "source": [
    "red = Car(\"The red car\",30000)\n",
    "print(red)"
   ]
  },
  {
   "cell_type": "code",
   "execution_count": 202,
   "id": "0a561263-3078-4b95-80ab-d2bbdc6dd313",
   "metadata": {},
   "outputs": [
    {
     "name": "stdout",
     "output_type": "stream",
     "text": [
      "The blue car has 20000 miles\n",
      "The red car has 30000 miles\n"
     ]
    }
   ],
   "source": [
    "blue = Car(\"The blue car\", 20000)\n",
    "print(blue)\n",
    "red = Car(\"The red car\",30000)\n",
    "print(red)"
   ]
  },
  {
   "cell_type": "code",
   "execution_count": null,
   "id": "c2966c4d-732a-4c54-9343-e261a5bbbd7f",
   "metadata": {},
   "outputs": [],
   "source": []
  },
  {
   "cell_type": "code",
   "execution_count": null,
   "id": "e53af42d-37b2-4bc4-9fc3-8bd3e0aaaf55",
   "metadata": {},
   "outputs": [],
   "source": []
  },
  {
   "cell_type": "code",
   "execution_count": null,
   "id": "332bcbff-8020-4f6f-b3b5-1e97d11cb033",
   "metadata": {},
   "outputs": [],
   "source": []
  },
  {
   "cell_type": "code",
   "execution_count": null,
   "id": "9a8f67a8-a898-4122-8845-65dfe58e8e36",
   "metadata": {},
   "outputs": [],
   "source": []
  }
 ],
 "metadata": {
  "kernelspec": {
   "display_name": "Python 3 (ipykernel)",
   "language": "python",
   "name": "python3"
  },
  "language_info": {
   "codemirror_mode": {
    "name": "ipython",
    "version": 3
   },
   "file_extension": ".py",
   "mimetype": "text/x-python",
   "name": "python",
   "nbconvert_exporter": "python",
   "pygments_lexer": "ipython3",
   "version": "3.9.12"
  }
 },
 "nbformat": 4,
 "nbformat_minor": 5
}
